{
 "cells": [
  {
   "cell_type": "code",
   "execution_count": 2,
   "metadata": {},
   "outputs": [
    {
     "ename": "AttributeError",
     "evalue": "module 'tensorflow' has no attribute 'InteractiveSession'",
     "output_type": "error",
     "traceback": [
      "\u001b[1;31m---------------------------------------------------------------------------\u001b[0m",
      "\u001b[1;31mAttributeError\u001b[0m                            Traceback (most recent call last)",
      "\u001b[1;32m<ipython-input-2-32e98703fe29>\u001b[0m in \u001b[0;36m<module>\u001b[1;34m\u001b[0m\n\u001b[0;32m      2\u001b[0m \u001b[1;33m\u001b[0m\u001b[0m\n\u001b[0;32m      3\u001b[0m \u001b[1;31m#sess = tf.Session()\u001b[0m\u001b[1;33m\u001b[0m\u001b[1;33m\u001b[0m\u001b[1;33m\u001b[0m\u001b[0m\n\u001b[1;32m----> 4\u001b[1;33m \u001b[0msess\u001b[0m \u001b[1;33m=\u001b[0m \u001b[0mtf\u001b[0m\u001b[1;33m.\u001b[0m\u001b[0mInteractiveSession\u001b[0m\u001b[1;33m(\u001b[0m\u001b[1;33m)\u001b[0m\u001b[1;33m\u001b[0m\u001b[1;33m\u001b[0m\u001b[0m\n\u001b[0m\u001b[0;32m      5\u001b[0m \u001b[1;33m\u001b[0m\u001b[0m\n\u001b[0;32m      6\u001b[0m \u001b[0ma\u001b[0m \u001b[1;33m=\u001b[0m \u001b[0mtf\u001b[0m\u001b[1;33m.\u001b[0m\u001b[0mconstant\u001b[0m\u001b[1;33m(\u001b[0m\u001b[1;36m10\u001b[0m\u001b[1;33m)\u001b[0m\u001b[1;33m\u001b[0m\u001b[1;33m\u001b[0m\u001b[0m\n",
      "\u001b[1;31mAttributeError\u001b[0m: module 'tensorflow' has no attribute 'InteractiveSession'"
     ]
    }
   ],
   "source": [
    "import tensorflow as tf\n",
    "\n",
    "#sess = tf.Session()\n",
    "sess = tf.InteractiveSession()\n",
    "\n",
    "a = tf.constant(10)\n",
    "\n",
    "b= tf.constant([12,15])\n",
    "\n",
    "sess.run(a+b)"
   ]
  },
  {
   "cell_type": "code",
   "execution_count": 3,
   "metadata": {},
   "outputs": [
    {
     "name": "stdout",
     "output_type": "stream",
     "text": [
      "Downloading data from https://storage.googleapis.com/tensorflow/tf-keras-datasets/mnist.npz\n",
      "11493376/11490434 [==============================] - 24s 2us/step\n",
      "Train on 60000 samples\n",
      "Epoch 1/5\n",
      "60000/60000 [==============================] - 6s 97us/sample - loss: 0.2982 - accuracy: 0.9139\n",
      "Epoch 2/5\n",
      "60000/60000 [==============================] - 5s 83us/sample - loss: 0.1412 - accuracy: 0.9583\n",
      "Epoch 3/5\n",
      "60000/60000 [==============================] - 5s 86us/sample - loss: 0.1056 - accuracy: 0.9679\n",
      "Epoch 4/5\n",
      "60000/60000 [==============================] - 5s 89us/sample - loss: 0.0858 - accuracy: 0.9733\n",
      "Epoch 5/5\n",
      "60000/60000 [==============================] - 5s 81us/sample - loss: 0.0713 - accuracy: 0.9776\n",
      "10000/1 - 0s - loss: 0.0399 - accuracy: 0.9781\n"
     ]
    },
    {
     "data": {
      "text/plain": [
       "[0.07406115507381036, 0.9781]"
      ]
     },
     "execution_count": 3,
     "metadata": {},
     "output_type": "execute_result"
    }
   ],
   "source": [
    "from __future__ import absolute_import, division, print_function, unicode_literals\n",
    "\n",
    "# 安装 TensorFlow\n",
    "\n",
    "import tensorflow as tf\n",
    "mnist = tf.keras.datasets.mnist\n",
    "\n",
    "(x_train, y_train), (x_test, y_test) = mnist.load_data()\n",
    "x_train, x_test = x_train / 255.0, x_test / 255.0\n",
    "model = tf.keras.models.Sequential([\n",
    "  tf.keras.layers.Flatten(input_shape=(28, 28)),\n",
    "  tf.keras.layers.Dense(128, activation='relu'),\n",
    "  tf.keras.layers.Dropout(0.2),\n",
    "  tf.keras.layers.Dense(10, activation='softmax')\n",
    "])\n",
    "\n",
    "model.compile(optimizer='adam',\n",
    "              loss='sparse_categorical_crossentropy',\n",
    "              metrics=['accuracy'])\n",
    "model.fit(x_train, y_train, epochs=5)\n",
    "\n",
    "model.evaluate(x_test,  y_test, verbose=2)"
   ]
  },
  {
   "cell_type": "code",
   "execution_count": 18,
   "metadata": {},
   "outputs": [
    {
     "name": "stdout",
     "output_type": "stream",
     "text": [
      "<module 'tensorflow' from 'c:\\\\users\\\\zhengguo\\\\ts\\\\ts\\\\lib\\\\site-packages\\\\tensorflow\\\\__init__.py'>\n"
     ]
    },
    {
     "data": {
      "text/plain": [
       "<tf.Tensor: id=11, shape=(2,), dtype=int32, numpy=array([12, 15])>"
      ]
     },
     "execution_count": 18,
     "metadata": {},
     "output_type": "execute_result"
    }
   ],
   "source": [
    "print(tf) \n",
    "tf.is_tensor(a)\n",
    "tf.is_tensor(b)\n",
    "\n",
    "b"
   ]
  },
  {
   "cell_type": "code",
   "execution_count": 16,
   "metadata": {},
   "outputs": [
    {
     "data": {
      "text/plain": [
       "<tf.Tensor: id=8, shape=(), dtype=int32, numpy=10>"
      ]
     },
     "execution_count": 16,
     "metadata": {},
     "output_type": "execute_result"
    }
   ],
   "source": [
    "a"
   ]
  },
  {
   "cell_type": "code",
   "execution_count": 1,
   "metadata": {},
   "outputs": [
    {
     "name": "stdout",
     "output_type": "stream",
     "text": [
      "<User(name='ed', fullname='Ed Jones', password='edspassword')>\n",
      "(1, 'ed', 'Ed Jones', 'edspassword')\n",
      "(2, 'wendy', 'Wendy Williams', 'foobar')\n",
      "(3, 'mary', 'Mary Contrary', 'xxg527')\n",
      "(4, 'fred', 'Fred Flinstone', 'blah')\n"
     ]
    }
   ],
   "source": [
    "#sqllitealchemy.txt\n",
    "from sqlalchemy import create_engine\n",
    "from sqlalchemy import Column, Integer, String\n",
    "from sqlalchemy.ext.declarative import declarative_base\n",
    "\n",
    "#engine = create_engine('sqlite:///:memory:', echo=True)\n",
    "engine = create_engine('sqlite:///:memory:', echo=False)\n",
    "\n",
    "Base = declarative_base()\n",
    "\n",
    "# 定义映射类User，其继承上一步创建的Base\n",
    "class User(Base):\n",
    "    # 指定本类映射到users表\n",
    "    __tablename__ = 'users'\n",
    "    \n",
    "    # 指定id映射到id字段; id字段为整型，为主键\n",
    "    id = Column(Integer, primary_key=True)\n",
    "    # 指定name映射到name字段; name字段为字符串类形，\n",
    "    name = Column(String(20))\n",
    "    fullname = Column(String(32))\n",
    "    password = Column(String(32))\n",
    "\n",
    "    def __repr__(self):\n",
    "        return \"<User(name='%s', fullname='%s', password='%s')>\" % (\n",
    "                   self.name, self.fullname, self.password)\n",
    "\n",
    "# 查看映射对应的表\n",
    "User.__table__\n",
    "\n",
    "# 创建数据表\n",
    "Base.metadata.create_all(engine)\n",
    "\n",
    "from sqlalchemy.orm import sessionmaker\n",
    "\n",
    "# engine是2.2中创建的连接\n",
    "Session = sessionmaker(bind=engine)\n",
    "\n",
    "# 创建Session类实例\n",
    "session = Session()\n",
    "\n",
    "# 创建User类实例\n",
    "ed_user = User(name='ed', fullname='Ed Jones', password='edspassword')\n",
    "\n",
    "# 将该实例插入到users表\n",
    "session.add(ed_user)\n",
    "\n",
    "# 一次插入多条记录形式\n",
    "session.add_all(\n",
    "    [User(name='wendy', fullname='Wendy Williams', password='foobar'),\n",
    "    User(name='mary', fullname='Mary Contrary', password='xxg527'),\n",
    "    User(name='fred', fullname='Fred Flinstone', password='blah')]\n",
    ")\n",
    "\n",
    "# 当前更改只是在session中，需要使用commit确认更改才会写入数据库\n",
    "session.commit()\n",
    "\n",
    "table_and_column_name = User\n",
    "filter = (User.name=='ed')\n",
    "\n",
    "our_user = session.query(table_and_column_name).filter(filter).first()\n",
    "print(our_user)\n",
    "\n",
    "\n",
    "\n",
    "# 正常的SQL语句\n",
    "sql = \"select * from users\"\n",
    "\n",
    "# sqlalchemy使用execute方法直接执行SQL\n",
    "records = session.execute(sql)\n",
    "for x in records:\n",
    "    print(x)\n",
    "\n"
   ]
  },
  {
   "cell_type": "code",
   "execution_count": null,
   "metadata": {},
   "outputs": [],
   "source": []
  }
 ],
 "metadata": {
  "kernelspec": {
   "display_name": "Python 3",
   "language": "python",
   "name": "python3"
  },
  "language_info": {
   "codemirror_mode": {
    "name": "ipython",
    "version": 3
   },
   "file_extension": ".py",
   "mimetype": "text/x-python",
   "name": "python",
   "nbconvert_exporter": "python",
   "pygments_lexer": "ipython3",
   "version": "3.7.2"
  }
 },
 "nbformat": 4,
 "nbformat_minor": 2
}
